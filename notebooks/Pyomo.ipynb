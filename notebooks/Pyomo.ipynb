{
 "cells": [
  {
   "cell_type": "code",
   "execution_count": 1,
   "id": "dc025ab2",
   "metadata": {},
   "outputs": [],
   "source": [
    "import pyomo.environ as pyo\n",
    "import numpy as np\n",
    "import pandas as pd"
   ]
  },
  {
   "cell_type": "code",
   "execution_count": 13,
   "id": "0a67f0d4",
   "metadata": {},
   "outputs": [],
   "source": [
    "lp_model = pyo.ConcreteModel()"
   ]
  },
  {
   "cell_type": "code",
   "execution_count": 14,
   "id": "dda6386f",
   "metadata": {},
   "outputs": [
    {
     "data": {
      "text/plain": [
       "<pyomo.core.base.PyomoModel.ConcreteModel at 0x7fd742da4fc0>"
      ]
     },
     "execution_count": 14,
     "metadata": {},
     "output_type": "execute_result"
    }
   ],
   "source": [
    "lp_model"
   ]
  },
  {
   "cell_type": "code",
   "execution_count": 15,
   "id": "cf7f4126",
   "metadata": {},
   "outputs": [],
   "source": [
    "lp_model.n = pyo.RangeSet(1, 5)"
   ]
  },
  {
   "cell_type": "code",
   "execution_count": 16,
   "id": "d4caaec2",
   "metadata": {},
   "outputs": [
    {
     "data": {
      "text/plain": [
       "<pyomo.core.base.PyomoModel.ConcreteModel at 0x7fd742da4fc0>"
      ]
     },
     "execution_count": 16,
     "metadata": {},
     "output_type": "execute_result"
    }
   ],
   "source": [
    "lp_model"
   ]
  },
  {
   "cell_type": "code",
   "execution_count": 17,
   "id": "5152f67b",
   "metadata": {},
   "outputs": [
    {
     "name": "stdout",
     "output_type": "stream",
     "text": [
      "1 RangeSet Declarations\n",
      "    n : Dimen=1, Size=5, Bounds=(1, 5)\n",
      "        Key  : Finite : Members\n",
      "        None :   True :   [1:5]\n",
      "\n",
      "1 Declarations: n\n"
     ]
    }
   ],
   "source": [
    "lp_model.pprint()"
   ]
  },
  {
   "cell_type": "code",
   "execution_count": 18,
   "id": "3a077354",
   "metadata": {},
   "outputs": [],
   "source": [
    "lp_model.eff = pyo.Var(within=pyo.Reals)"
   ]
  },
  {
   "cell_type": "code",
   "execution_count": 19,
   "id": "68a398af",
   "metadata": {},
   "outputs": [
    {
     "name": "stdout",
     "output_type": "stream",
     "text": [
      "1 RangeSet Declarations\n",
      "    n : Dimen=1, Size=5, Bounds=(1, 5)\n",
      "        Key  : Finite : Members\n",
      "        None :   True :   [1:5]\n",
      "\n",
      "1 Var Declarations\n",
      "    eff : Size=1, Index=None\n",
      "        Key  : Lower : Value : Upper : Fixed : Stale : Domain\n",
      "        None :  None :  None :  None : False :  True :  Reals\n",
      "\n",
      "2 Declarations: n eff\n"
     ]
    }
   ],
   "source": [
    "lp_model.pprint()"
   ]
  },
  {
   "cell_type": "code",
   "execution_count": 20,
   "id": "0997dbf5",
   "metadata": {},
   "outputs": [],
   "source": [
    "lp_model.lambdas = pyo.Var(lp_model.n, within=pyo.NonPositiveReals)"
   ]
  },
  {
   "cell_type": "code",
   "execution_count": 21,
   "id": "8932c26f",
   "metadata": {},
   "outputs": [
    {
     "name": "stdout",
     "output_type": "stream",
     "text": [
      "1 RangeSet Declarations\n",
      "    n : Dimen=1, Size=5, Bounds=(1, 5)\n",
      "        Key  : Finite : Members\n",
      "        None :   True :   [1:5]\n",
      "\n",
      "2 Var Declarations\n",
      "    eff : Size=1, Index=None\n",
      "        Key  : Lower : Value : Upper : Fixed : Stale : Domain\n",
      "        None :  None :  None :  None : False :  True :  Reals\n",
      "    lambdas : Size=5, Index=n\n",
      "        Key : Lower : Value : Upper : Fixed : Stale : Domain\n",
      "          1 :  None :  None :     0 : False :  True : NonPositiveReals\n",
      "          2 :  None :  None :     0 : False :  True : NonPositiveReals\n",
      "          3 :  None :  None :     0 : False :  True : NonPositiveReals\n",
      "          4 :  None :  None :     0 : False :  True : NonPositiveReals\n",
      "          5 :  None :  None :     0 : False :  True : NonPositiveReals\n",
      "\n",
      "3 Declarations: n eff lambdas\n"
     ]
    }
   ],
   "source": [
    "lp_model.pprint()"
   ]
  },
  {
   "cell_type": "code",
   "execution_count": 23,
   "id": "1d925089",
   "metadata": {},
   "outputs": [
    {
     "data": {
      "text/plain": [
       "<pyomo.core.base.var._GeneralVarData at 0x7fd742287880>"
      ]
     },
     "execution_count": 23,
     "metadata": {},
     "output_type": "execute_result"
    }
   ],
   "source": [
    "lp_model.lambdas[1]"
   ]
  },
  {
   "cell_type": "code",
   "execution_count": null,
   "id": "651043fd",
   "metadata": {},
   "outputs": [],
   "source": []
  }
 ],
 "metadata": {
  "kernelspec": {
   "display_name": "Python 3",
   "language": "python",
   "name": "python3"
  },
  "language_info": {
   "codemirror_mode": {
    "name": "ipython",
    "version": 3
   },
   "file_extension": ".py",
   "mimetype": "text/x-python",
   "name": "python",
   "nbconvert_exporter": "python",
   "pygments_lexer": "ipython3",
   "version": "3.8.8"
  },
  "varInspector": {
   "cols": {
    "lenName": 16,
    "lenType": 16,
    "lenVar": 40
   },
   "kernels_config": {
    "python": {
     "delete_cmd_postfix": "",
     "delete_cmd_prefix": "del ",
     "library": "var_list.py",
     "varRefreshCmd": "print(var_dic_list())"
    },
    "r": {
     "delete_cmd_postfix": ") ",
     "delete_cmd_prefix": "rm(",
     "library": "var_list.r",
     "varRefreshCmd": "cat(var_dic_list()) "
    }
   },
   "types_to_exclude": [
    "module",
    "function",
    "builtin_function_or_method",
    "instance",
    "_Feature"
   ],
   "window_display": false
  }
 },
 "nbformat": 4,
 "nbformat_minor": 5
}
